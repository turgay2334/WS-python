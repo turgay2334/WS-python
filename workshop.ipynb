{
 "cells": [
  {
   "cell_type": "code",
   "execution_count": 1,
   "id": "8ec90e30-c350-4203-a943-ed5f34d631a8",
   "metadata": {},
   "outputs": [],
   "source": []
  },
  {
   "cell_type": "markdown",
   "id": "07d8248a",
   "metadata": {},
   "source": [
    "# muaz hoca\n",
    "14.02.2022 python workshop"
   ]
  },
  {
   "cell_type": "code",
   "execution_count": 1,
   "id": "63a0e70d",
   "metadata": {},
   "outputs": [
    {
     "name": "stdout",
     "output_type": "stream",
     "text": [
      "tek\n"
     ]
    }
   ],
   "source": [
    "# girilen sayımın tek mi çift mi olduğunu bulma\n",
    "\n",
    "sayı = int(input(\"Enter a number\"))\n",
    "if sayı %2 == 0:\n",
    "    print(\"çif\")\n",
    "else:\n",
    "    print(\"tek\")"
   ]
  },
  {
   "cell_type": "code",
   "execution_count": 4,
   "id": "0b31b99a",
   "metadata": {},
   "outputs": [
    {
     "name": "stdout",
     "output_type": "stream",
     "text": [
      "sıfır\n"
     ]
    }
   ],
   "source": [
    "#girilen sayının pozitif negatif veya 0 olduğunu bulalım\n",
    "sayı = int(input(\"Enter a number\"))\n",
    "if sayı > 0:\n",
    "    print(\"pozitif\")\n",
    "elif sayı < 0:\n",
    "    print(\"negatif\")\n",
    "else:\n",
    "    print(\"sıfır\")"
   ]
  },
  {
   "cell_type": "code",
   "execution_count": 7,
   "id": "4fdbb687",
   "metadata": {},
   "outputs": [
    {
     "name": "stdout",
     "output_type": "stream",
     "text": [
      "Endeksiniz 0 boy lilo uyumlu\n"
     ]
    }
   ],
   "source": [
    "#boy kilo endexi\n",
    "boy = 183\n",
    "kilo = 75\n",
    "\n",
    "endex = round(kilo / (boy ** 2))\n",
    "\n",
    "if 18.5 > endex :\n",
    "    print(f\"Endeksiniz {endex} boy lilo uyumlu\")\n",
    "elif endex < 24.5 and endex >= 18.5:\n",
    "    print(f\"Endeksiniz {endex} kilo normalden biraz fazla\")\n",
    "else:\n",
    "    print(f\"{endex} çok şimansınız\")"
   ]
  },
  {
   "cell_type": "markdown",
   "id": "12cbb081",
   "metadata": {},
   "source": [
    "## print(format.....) ile ilgili örnek"
   ]
  },
  {
   "cell_type": "code",
   "execution_count": 13,
   "id": "1cd76316-7901-4b4f-9b52-98c6d5116101",
   "metadata": {},
   "outputs": [
    {
     "name": "stdout",
     "output_type": "stream",
     "text": [
      "Welcome                       #       111\n",
      "94.55\n"
     ]
    }
   ],
   "source": [
    "print(\"{:30s}\".format(\"Welcome\"),end = \"#\") # \"welcome\" kelimesini yazdıktan sanra 30 karekter boşluk bırak demek.welcome 7 karekterli olduğu\n",
    "print(\"{:10d}\".format(111)) #111 rakamını yazdır ama :10d(4 digite kadar) yazdır.rakam 3 basamaklı olduğu için başına 7 tane 0 koydu. 0 ların da kıymeti olmadığı için boşluk olarak görünüyor\n",
    "print(\"{:3.2f}\".format(94.546738))#:3.2f(float olan sayının) soldan 3, noktadan sonra 2 basamagını alıp yuvarlar"
   ]
  },
  {
   "cell_type": "code",
   "execution_count": 17,
   "id": "1107de5d-23e8-45f3-a560-eb5cc14646a6",
   "metadata": {},
   "outputs": [
    {
     "name": "stdout",
     "output_type": "stream",
     "text": [
      "Şartlarınız uygun\n"
     ]
    }
   ],
   "source": [
    "# girilen yaş ehliyet alabilir mi alamaz mı\n",
    "name = \"Semih\"\n",
    "yaş = 18\n",
    "eğitim = input(\"Eğitim durumunuzu giriniz:\")\n",
    "eğitim2 = [\"ortaokul\", \"lise\",\"üniversite\"]\n",
    "\n",
    "if yaş < 18 or (eğitim not in eğitim2):\n",
    "    print(\"Ehliyet alamazsınız\") \n",
    "else:\n",
    "    print(\"Şartlarınız uygun\")\n"
   ]
  },
  {
   "cell_type": "code",
   "execution_count": 18,
   "id": "321eeaa0-0c71-4bf6-8a0e-5748686c36b8",
   "metadata": {},
   "outputs": [
    {
     "name": "stdout",
     "output_type": "stream",
     "text": [
      "0\n",
      "1\n",
      "2\n",
      "3\n",
      "4\n"
     ]
    }
   ],
   "source": [
    "#1- 4 arası sayıları sıralama for döngüsü\n",
    "for i in range(5):\n",
    "    print(i)"
   ]
  },
  {
   "cell_type": "code",
   "execution_count": 19,
   "id": "1ab5c2ba-2848-4236-a0e6-929a7f62b05b",
   "metadata": {},
   "outputs": [
    {
     "name": "stdout",
     "output_type": "stream",
     "text": [
      "4\n"
     ]
    }
   ],
   "source": [
    "print(i) # print i for döngüsünün dışına yazarsak depişkenin son değeri olan 4 ü çıktı verir. for döngüsünün içine yazarsak herbir döngüdeki değeri ayrı ayrı yazdırır"
   ]
  },
  {
   "cell_type": "code",
   "execution_count": 59,
   "id": "6209e984",
   "metadata": {},
   "outputs": [
    {
     "name": "stdout",
     "output_type": "stream",
     "text": [
      "10\n",
      "9\n",
      "8\n",
      "7\n",
      "6\n",
      "5\n",
      "4\n",
      "3\n",
      "2\n"
     ]
    }
   ],
   "source": [
    "for  i in range(10, 1, -1):\n",
    "    print(i)"
   ]
  },
  {
   "cell_type": "markdown",
   "id": "b7b1ce44",
   "metadata": {},
   "source": [
    "# muaz 15.02"
   ]
  },
  {
   "cell_type": "code",
   "execution_count": 62,
   "id": "1faafc81",
   "metadata": {},
   "outputs": [
    {
     "name": "stdout",
     "output_type": "stream",
     "text": [
      "2\n",
      "4\n",
      "6\n",
      "8\n",
      "10\n",
      "12\n",
      "14\n",
      "16\n",
      "18\n",
      "20\n",
      "1\n",
      "3\n",
      "5\n",
      "7\n",
      "9\n",
      "11\n",
      "13\n",
      "15\n",
      "17\n",
      "19\n"
     ]
    }
   ],
   "source": [
    "#1 den 220 e kadar çift tek sayılar\n",
    "\n",
    "for i in range(1,21):\n",
    "    if i % 2 == 0:\n",
    "        print(i)\n",
    "for j in range(1, 21):\n",
    "    if j % 2 == 1 :\n",
    "        print(j) "
   ]
  },
  {
   "cell_type": "code",
   "execution_count": 63,
   "id": "63216685",
   "metadata": {},
   "outputs": [
    {
     "name": "stdout",
     "output_type": "stream",
     "text": [
      "15\n",
      "30\n"
     ]
    }
   ],
   "source": [
    "# 1 den 30 e 3 v3 beşe tam bölünen sayılar\n",
    "for i in range(1,31):\n",
    "    if i % 3 == 0 and i % 5 == 0:\n",
    "        print(i)"
   ]
  },
  {
   "cell_type": "code",
   "execution_count": 65,
   "id": "9008de0f",
   "metadata": {},
   "outputs": [
    {
     "name": "stdout",
     "output_type": "stream",
     "text": [
      "h\n",
      "a\n",
      "t\n",
      "i\n",
      "c\n",
      "e\n",
      "6\n"
     ]
    }
   ],
   "source": [
    "name = \"hatice\"\n",
    "sayac = 0\n",
    "\n",
    "while sayac < len(name):\n",
    "    print(name[sayac])\n",
    "    sayac += 1\n",
    "print(sayac)"
   ]
  },
  {
   "cell_type": "code",
   "execution_count": 67,
   "id": "d63adf0e",
   "metadata": {},
   "outputs": [
    {
     "name": "stdout",
     "output_type": "stream",
     "text": [
      "I will stop smoking\n",
      "I will stop smoking\n",
      "I will stop smoking\n",
      "I will stop smoking\n",
      "I will stop smoking\n",
      "I will stop smoking\n",
      "I will stop smoking\n"
     ]
    }
   ],
   "source": [
    "a = 3\n",
    "while a ** 2 < 500:\n",
    "    print(\"I will stop smoking\")\n",
    "    a += 3"
   ]
  },
  {
   "cell_type": "code",
   "execution_count": 70,
   "id": "30995b38",
   "metadata": {},
   "outputs": [
    {
     "name": "stdout",
     "output_type": "stream",
     "text": [
      "0\n",
      "1\n",
      "2\n",
      "3\n",
      "4\n",
      "5\n",
      "You are out of range\n"
     ]
    }
   ],
   "source": [
    "a = 0\n",
    "while a < number:\n",
    "    print(a)\n",
    "    a += 1\n",
    "print(\"You are out of range\")\n"
   ]
  },
  {
   "cell_type": "code",
   "execution_count": 75,
   "id": "549a0f31",
   "metadata": {},
   "outputs": [
    {
     "name": "stdout",
     "output_type": "stream",
     "text": [
      "93\n"
     ]
    }
   ],
   "source": [
    "# kullanıcının girdiği iki sayının toplamı\n",
    "sayı1 = int(input(\"Enter a number:\"))\n",
    "sayı2 = int(input(\"Enter a number:\"))\n",
    "\n",
    "sum = 0\n",
    "for i in range(sayı1, (sayı2 +1)):\n",
    "    sum += i\n",
    "    \n",
    "print(sum)\n",
    "\n",
    "\n"
   ]
  },
  {
   "cell_type": "code",
   "execution_count": 76,
   "id": "729afe65",
   "metadata": {},
   "outputs": [
    {
     "name": "stdout",
     "output_type": "stream",
     "text": [
      "2\n",
      "1\n"
     ]
    }
   ],
   "source": [
    "print(True + 1) #True nin numerik değeri 1 dır\n",
    "print(False + 1) # False nin değeri 0 dır"
   ]
  },
  {
   "cell_type": "markdown",
   "id": "be672688",
   "metadata": {},
   "source": [
    "# samet 15.02"
   ]
  },
  {
   "cell_type": "code",
   "execution_count": 83,
   "id": "df854c39",
   "metadata": {},
   "outputs": [],
   "source": []
  },
  {
   "cell_type": "code",
   "execution_count": null,
   "id": "c4316d32",
   "metadata": {},
   "outputs": [],
   "source": []
  },
  {
   "cell_type": "code",
   "execution_count": null,
   "id": "30c962db",
   "metadata": {},
   "outputs": [],
   "source": []
  },
  {
   "cell_type": "code",
   "execution_count": null,
   "id": "6b4ea25b",
   "metadata": {},
   "outputs": [],
   "source": []
  },
  {
   "cell_type": "code",
   "execution_count": null,
   "id": "b6f1eeca",
   "metadata": {},
   "outputs": [],
   "source": []
  },
  {
   "cell_type": "code",
   "execution_count": null,
   "id": "0328016a",
   "metadata": {},
   "outputs": [],
   "source": []
  },
  {
   "cell_type": "code",
   "execution_count": null,
   "id": "983707aa",
   "metadata": {},
   "outputs": [],
   "source": []
  },
  {
   "cell_type": "code",
   "execution_count": null,
   "id": "0cf66b80",
   "metadata": {},
   "outputs": [],
   "source": []
  },
  {
   "cell_type": "markdown",
   "id": "c60d6342",
   "metadata": {},
   "source": [
    "#07.03 muaz "
   ]
  },
  {
   "cell_type": "markdown",
   "id": "a7e334ef",
   "metadata": {},
   "source": [
    "##TASK :\n",
    "Kullanıcıdan 2 tane sayı alarak bu sayıların en küçük ortak katını (EKOK) ve eBOB unu bulan bir program yazınız..:\n",
    "mümkün olduğunca en kısa halini yazınız.."
   ]
  },
  {
   "cell_type": "code",
   "execution_count": 23,
   "id": "493dc02c-ac0e-4ddc-b428-5bb8697b1bc9",
   "metadata": {},
   "outputs": [
    {
     "name": "stdout",
     "output_type": "stream",
     "text": [
      "1\n",
      "2\n",
      "4\n",
      "5\n",
      "10\n"
     ]
    }
   ],
   "source": [
    "# bir sayı yarısından daha büyük hiçbir sayıya tam bölünmez\n",
    "sayı = int(input(\"bir sayı giriniz.\"))\n",
    "for i in range(1,sayı):# bir sayı 0 a tam bölünemeyeceği için range ı birden başlattık\n",
    "    if sayı % i == 0: #alınan 20 sayısını tam bölen değişkeleri verir \n",
    "        print(i)"
   ]
  },
  {
   "cell_type": "code",
   "execution_count": 31,
   "id": "31420075",
   "metadata": {},
   "outputs": [
    {
     "name": "stdout",
     "output_type": "stream",
     "text": [
      "1 2 4 5 10 1 2 4 5 10 20 24\n",
      "19\n"
     ]
    }
   ],
   "source": [
    "#sayı1 = int(input(\"bir sayı giriniz.\"))\n",
    "#sayı2 = int(input(\"bir sayı giriniz.\"))\n",
    "sayı1 =  20\n",
    "sayı2 = 25\n",
    "for i in range(1,sayı):\n",
    "    if sayı % i == 0:\n",
    "        print(i, end = \" \")\n",
    "for j in range(1,sayı2):\n",
    "    if sayı % j == 0:\n",
    "        print(j, end= \" \")\n",
    "print(j)#j nin aldığı son değer olan 24 ü çıktı verir\n",
    "print(i)#i nin aldığı son değeri verir\n"
   ]
  },
  {
   "cell_type": "code",
   "execution_count": 33,
   "id": "8712a14d",
   "metadata": {},
   "outputs": [
    {
     "name": "stdout",
     "output_type": "stream",
     "text": [
      "20\n"
     ]
    }
   ],
   "source": [
    "for i in range (80,1, -1):#range fonksiyononunu tersten yaz\n",
    "    if 80 % i == 0 and 100 % i == 0 :#80 ve 100 sayısını tam bölenleri arıyorum\n",
    "        print(i)# 80 ve 100 sayısını kalansız bölen değerleri yazdır\n",
    "        break# ilk bölen sayıyı bulunca break yap ve çık"
   ]
  },
  {
   "cell_type": "code",
   "execution_count": 36,
   "id": "1aec68af",
   "metadata": {},
   "outputs": [
    {
     "name": "stdout",
     "output_type": "stream",
     "text": [
      "4\n"
     ]
    }
   ],
   "source": [
    ".\n",
    ".#obeb\n",
    ".sayı1 = int(input(\"bir sayı giriniz.\"))\n",
    "sayı2 = int(input(\"bir sayı giriniz.\"))\n",
    "mini = min(sayı1, sayı2)# girilen sayılardan küçük sayıyı bulmak için\n",
    "for i in range (mini, 1, -1):\n",
    "    if sayı1 % i == 0 and sayı2 % i == 0 :\n",
    "        print(i)\n",
    "        break\n",
    "\n"
   ]
  },
  {
   "cell_type": "markdown",
   "id": "3838ba01",
   "metadata": {},
   "source": [
    "#TASK ekok"
   ]
  },
  {
   "cell_type": "code",
   "execution_count": 39,
   "id": "67777d91",
   "metadata": {},
   "outputs": [
    {
     "name": "stdout",
     "output_type": "stream",
     "text": [
      "21\n",
      "21\n"
     ]
    }
   ],
   "source": [
    "x = 20\n",
    "while True:# while sonsuz bir döngü oluşturur.\n",
    "    x += 1\n",
    "    print(x)\n",
    "    break#break bir defa çalıştırdıktan sonra durdurur.\n",
    "print(x)#yeni x değeri 21 olduğu için 21 yazar"
   ]
  },
  {
   "cell_type": "code",
   "execution_count": 40,
   "id": "371b36f9",
   "metadata": {},
   "outputs": [
    {
     "name": "stdout",
     "output_type": "stream",
     "text": [
      "20\n"
     ]
    }
   ],
   "source": [
    "x = 20\n",
    "while False:#False olduğu için blokun içine girmedi doğrudan x in değerini yaxdı.\n",
    "    x += 1\n",
    "    print(x)\n",
    "    break\n",
    "print(x)"
   ]
  },
  {
   "cell_type": "code",
   "execution_count": 41,
   "id": "e7f3ff71",
   "metadata": {},
   "outputs": [
    {
     "name": "stdout",
     "output_type": "stream",
     "text": [
      "22\n"
     ]
    }
   ],
   "source": [
    "sayı1 = int(input(\"bir sayı giriniz.\"))\n",
    "sayı2 = int(input(\"bir sayı giriniz.\"))\n",
    "\n",
    "#mini = min(sayı1, sayı2)\n",
    "#maxi = max(sayı1, sayı2)\n",
    "\n",
    "ekok = max(sayı1, sayı2)#sayılardan büyük olan sayı ekok olabilir\n",
    "while True:\n",
    "    if ekok % sayı1 == 0 and ekok % sayı2 == 0 :\n",
    "        print(ekok)\n",
    "        break\n",
    "    x +=1"
   ]
  },
  {
   "cell_type": "markdown",
   "id": "4239c5d7",
   "metadata": {},
   "source": [
    "#list comprehensin w3schools"
   ]
  },
  {
   "cell_type": "code",
   "execution_count": 42,
   "id": "4e98c19a",
   "metadata": {},
   "outputs": [
    {
     "name": "stdout",
     "output_type": "stream",
     "text": [
      "['apple', 'banana', 'mango']\n"
     ]
    }
   ],
   "source": [
    "fruits = [\"apple\", \"banana\", \"cherry\", \"kiwi\", \"mango\"]\n",
    "newlist = []\n",
    "\n",
    "for x in fruits:\n",
    "  if \"a\" in x:\n",
    "    newlist.append(x)\n",
    "\n",
    "print(newlist)"
   ]
  },
  {
   "cell_type": "code",
   "execution_count": 43,
   "id": "50263380",
   "metadata": {},
   "outputs": [
    {
     "name": "stdout",
     "output_type": "stream",
     "text": [
      "['apple', 'banana', 'cherry', 'kiwi', 'mango']\n"
     ]
    }
   ],
   "source": [
    "fruits = [\"apple\", \"banana\", \"cherry\", \"kiwi\", \"mango\"]\n",
    "newlist = [x for x in fruits]# for fonksiyonunu liste içerisinde çalıştırıyor\n",
    "print(newlist)"
   ]
  },
  {
   "cell_type": "code",
   "execution_count": 46,
   "id": "a2a47c9c",
   "metadata": {},
   "outputs": [
    {
     "name": "stdout",
     "output_type": "stream",
     "text": [
      "['apple', 'banana', 'mango']\n",
      "['apple', 'banana', 'mango']\n"
     ]
    }
   ],
   "source": [
    "fruits = [\"apple\", \"banana\", \"cherry\", \"kiwi\", \"mango\"]\n",
    "newlist1 =[]\n",
    "for x in fruits:\n",
    "    if \"a\" in x:\n",
    "        newlist1.append(x)\n",
    "\n",
    "newlist2 = [x for x in fruits if \"a\" in x ]#if i for un altına yazdık\n",
    "\n",
    "print(newlist1)#birbirinin aynısı\n",
    "print(newlist2)#birbirinin aynısı"
   ]
  },
  {
   "cell_type": "code",
   "execution_count": 50,
   "id": "3f4d3689",
   "metadata": {},
   "outputs": [
    {
     "name": "stdout",
     "output_type": "stream",
     "text": [
      "['apple', 'banana', 'mango']\n",
      "['APPLE', 'BANANA', 'MANGO']\n"
     ]
    }
   ],
   "source": [
    "fruits = [\"apple\", \"banana\", \"cherry\", \"kiwi\", \"mango\"]\n",
    "newlist = [x for x in fruits if \"a\" in x ]\n",
    "\n",
    "print(newlist)\n",
    "\n",
    "newlist2 = [x.upper() for x in fruits if \"a\" in x]#x değerlerine işlem yapabiliyoruz\n",
    "print(newlist2)"
   ]
  },
  {
   "cell_type": "code",
   "execution_count": 48,
   "metadata": {},
   "outputs": [
    {
     "name": "stdout",
     "output_type": "stream",
     "text": [
      "[0, 1, 2, 3, 4, 5, 6, 7, 8, 9, 10]\n"
     ]
    }
   ],
   "source": [
    "# 1 den 10 sayı listesi\n",
    "newlist= [x for x in range(11)]\n",
    "print(newlist)"
   ]
  },
  {
   "cell_type": "code",
   "execution_count": null,
   "metadata": {},
   "outputs": [],
   "source": []
  },
  {
   "cell_type": "code",
   "execution_count": null,
   "id": "b490e9dc",
   "metadata": {},
   "outputs": [],
   "source": []
  },
  {
   "cell_type": "code",
   "execution_count": null,
   "id": "171d26dc",
   "metadata": {},
   "outputs": [],
   "source": []
  }
 ],
 "metadata": {
  "kernelspec": {
   "display_name": "Python 3 (ipykernel)",
   "language": "python",
   "name": "python3"
  },
  "language_info": {
   "codemirror_mode": {
    "name": "ipython",
    "version": 3
   },
   "file_extension": ".py",
   "mimetype": "text/x-python",
   "name": "python",
   "nbconvert_exporter": "python",
   "pygments_lexer": "ipython3",
   "version": "3.10.2"
  }
 },
 "nbformat": 4,
 "nbformat_minor": 5
}
